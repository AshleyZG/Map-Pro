{
 "cells": [
  {
   "cell_type": "markdown",
   "id": "895dcd57-280d-4f8a-92a7-1ed4f815e103",
   "metadata": {},
   "source": [
    "# Set up OpenAI API"
   ]
  },
  {
   "cell_type": "code",
   "execution_count": 1,
   "id": "202382e0-f710-4493-8f15-df338ec542d7",
   "metadata": {},
   "outputs": [],
   "source": [
    "import os"
   ]
  },
  {
   "cell_type": "code",
   "execution_count": 2,
   "id": "28f308e8-75ed-48eb-8ce9-5f63a955906f",
   "metadata": {},
   "outputs": [
    {
     "data": {
      "text/plain": [
       "True"
      ]
     },
     "execution_count": 2,
     "metadata": {},
     "output_type": "execute_result"
    }
   ],
   "source": [
    "from dotenv import load_dotenv\n",
    "load_dotenv()  # This loads the variables from .env into the environment\n"
   ]
  },
  {
   "cell_type": "code",
   "execution_count": 3,
   "id": "bbeae104-a0b5-4565-894e-dbec34278af6",
   "metadata": {},
   "outputs": [],
   "source": [
    "import json\n",
    "from openai import OpenAI\n",
    "from tenacity import retry, wait_random_exponential, stop_after_attempt\n",
    "from termcolor import colored  \n",
    "\n",
    "GPT_MODEL = \"gpt-3.5-turbo-0613\"\n",
    "client = OpenAI()"
   ]
  },
  {
   "cell_type": "code",
   "execution_count": 4,
   "id": "3d5faf8e-4162-4c87-8d12-0645004fd0b9",
   "metadata": {},
   "outputs": [],
   "source": [
    "import requests\n",
    "import json\n",
    "\n",
    "# URL of the JSON data\n",
    "url = 'https://gezhangrp.com/research-data/RunExp/data/ac17_6_9-May-09-2023.json'\n",
    "\n",
    "# Send a GET request to the URL\n",
    "response = requests.get(url)\n",
    "\n",
    "# Check if the request was successful\n",
    "if response.status_code == 200:\n",
    "    # Parse the JSON content\n",
    "    data = response.json()\n",
    "    # Now `data` is a Python dictionary containing the JSON data\n",
    "    # print(data)\n",
    "else:\n",
    "    print(f\"Failed to retrieve data: HTTP {response.status_code}\")\n",
    "\n",
    "# If you need to handle more complex JSON structures or errors, you can use\n",
    "# json.loads(response.text) instead of response.json() for more control.\n"
   ]
  },
  {
   "cell_type": "code",
   "execution_count": 5,
   "id": "9628dcc1-1fc0-440a-b781-4f56b3ef0af8",
   "metadata": {},
   "outputs": [],
   "source": [
    "import random"
   ]
  },
  {
   "cell_type": "code",
   "execution_count": 6,
   "id": "669976d6-fa0d-40f8-8d2b-16c5aeb3f5b9",
   "metadata": {},
   "outputs": [],
   "source": [
    "id_list = data['code'].keys()"
   ]
  },
  {
   "cell_type": "code",
   "execution_count": 7,
   "id": "3f5fc9e3-8d9a-4b49-b825-3a87ed06e9ba",
   "metadata": {},
   "outputs": [],
   "source": [
    "correct_id_list = [i for i in id_list if data['test'][i]]"
   ]
  },
  {
   "cell_type": "code",
   "execution_count": 8,
   "id": "4ee85afe-1434-4ae8-a3be-fbe417270137",
   "metadata": {},
   "outputs": [
    {
     "name": "stdout",
     "output_type": "stream",
     "text": [
      "3942 1464\n"
     ]
    }
   ],
   "source": [
    "print(len(id_list), len(correct_id_list))"
   ]
  },
  {
   "cell_type": "code",
   "execution_count": 9,
   "id": "bc6b40b5-3e0e-4d0d-8d24-25bdda5ec1d8",
   "metadata": {},
   "outputs": [],
   "source": [
    "sampled_id_list = random.sample(correct_id_list, 100)"
   ]
  },
  {
   "cell_type": "code",
   "execution_count": 10,
   "id": "ad5e876b-7406-48f5-b1b9-93071c7d9019",
   "metadata": {},
   "outputs": [
    {
     "data": {
      "text/plain": [
       "100"
      ]
     },
     "execution_count": 10,
     "metadata": {},
     "output_type": "execute_result"
    }
   ],
   "source": [
    "len(sampled_id_list)"
   ]
  },
  {
   "cell_type": "code",
   "execution_count": 11,
   "id": "ed4ed9d3-d712-44be-a12e-df8c3d10c43b",
   "metadata": {},
   "outputs": [],
   "source": [
    "sampled_code_list = [data['code'][i] for i in sampled_id_list]"
   ]
  },
  {
   "cell_type": "code",
   "execution_count": 12,
   "id": "e26e7e13-bd6a-4223-a228-f25e63c9f293",
   "metadata": {},
   "outputs": [
    {
     "data": {
      "text/plain": [
       "\"t = []\\nother = []\\nathletes = [['Phelps', 'Lochte', 'Schooling', 'Ledecky', 'Franklin'], ['Felix', 'Bolt', 'Gardner', 'Eaton'], ['Biles', 'Douglas', 'Hamm', 'Raisman', 'Mikulak', 'Dalton']]\\n#print(athletes)\\nfor ls in athletes:\\n    for wd in ls:\\n        print(wd)\\n        \\n            \""
      ]
     },
     "execution_count": 12,
     "metadata": {},
     "output_type": "execute_result"
    }
   ],
   "source": [
    "random.choice(list(data['code'].values()))"
   ]
  },
  {
   "cell_type": "code",
   "execution_count": 13,
   "id": "83528505-cc4b-4fd4-8843-865674d0d40a",
   "metadata": {},
   "outputs": [],
   "source": [
    "@retry(wait=wait_random_exponential(multiplier=1, max=40), stop=stop_after_attempt(3))\n",
    "def chat_completion_request(messages, tools=None, tool_choice=None, model=GPT_MODEL):\n",
    "    try:\n",
    "        response = client.chat.completions.create(\n",
    "            model=model,\n",
    "            messages=messages,\n",
    "            tools=tools,\n",
    "            tool_choice=tool_choice,\n",
    "        )\n",
    "        return response\n",
    "    except Exception as e:\n",
    "        print(\"Unable to generate ChatCompletion response\")\n",
    "        print(f\"Exception: {e}\")\n",
    "        return e\n"
   ]
  },
  {
   "cell_type": "code",
   "execution_count": 14,
   "id": "5e875aef-506d-4fa9-b785-00324051019e",
   "metadata": {},
   "outputs": [],
   "source": [
    "def pretty_print_conversation(messages):\n",
    "    role_to_color = {\n",
    "        \"system\": \"red\",\n",
    "        \"user\": \"green\",\n",
    "        \"assistant\": \"blue\",\n",
    "        \"function\": \"magenta\",\n",
    "    }\n",
    "    \n",
    "    for message in messages:\n",
    "        if message[\"role\"] == \"system\":\n",
    "            print(colored(f\"system: {message['content']}\\n\", role_to_color[message[\"role\"]]))\n",
    "        elif message[\"role\"] == \"user\":\n",
    "            print(colored(f\"user: {message['content']}\\n\", role_to_color[message[\"role\"]]))\n",
    "        elif message[\"role\"] == \"assistant\" and message.get(\"function_call\"):\n",
    "            print(colored(f\"assistant: {message['function_call']}\\n\", role_to_color[message[\"role\"]]))\n",
    "        elif message[\"role\"] == \"assistant\" and not message.get(\"function_call\"):\n",
    "            print(colored(f\"assistant: {message['content']}\\n\", role_to_color[message[\"role\"]]))\n",
    "        elif message[\"role\"] == \"function\":\n",
    "            print(colored(f\"function ({message['name']}): {message['content']}\\n\", role_to_color[message[\"role\"]]))\n"
   ]
  },
  {
   "cell_type": "code",
   "execution_count": 26,
   "id": "2e22a914-1835-4272-88d1-ddf4a238a2a6",
   "metadata": {},
   "outputs": [],
   "source": [
    "tools = [\n",
    "    {\n",
    "        \"type\": \"function\",\n",
    "        \"function\": {\n",
    "            \"name\": \"get_current_weather\",\n",
    "            \"description\": \"Get the current weather\",\n",
    "            \"parameters\": {\n",
    "                \"type\": \"object\",\n",
    "                \"properties\": {\n",
    "                    \"location\": {\n",
    "                        \"type\": \"string\",\n",
    "                        \"description\": \"The city and state, e.g. San Francisco, CA\",\n",
    "                    },\n",
    "                    \"format\": {\n",
    "                        \"type\": \"string\",\n",
    "                        \"enum\": [\"celsius\", \"fahrenheit\"],\n",
    "                        \"description\": \"The temperature unit to use. Infer this from the users location.\",\n",
    "                    },\n",
    "                },\n",
    "                \"required\": [\"location\", \"format\"],\n",
    "            },\n",
    "        }\n",
    "    },\n",
    "    {\n",
    "        \"type\": \"function\",\n",
    "        \"function\": {\n",
    "            \"name\": \"get_n_day_weather_forecast\",\n",
    "            \"description\": \"Get an N-day weather forecast\",\n",
    "            \"parameters\": {\n",
    "                \"type\": \"object\",\n",
    "                \"properties\": {\n",
    "                    \"location\": {\n",
    "                        \"type\": \"string\",\n",
    "                        \"description\": \"The city and state, e.g. San Francisco, CA\",\n",
    "                    },\n",
    "                    \"format\": {\n",
    "                        \"type\": \"string\",\n",
    "                        \"enum\": [\"celsius\", \"fahrenheit\"],\n",
    "                        \"description\": \"The temperature unit to use. Infer this from the users location.\",\n",
    "                    },\n",
    "                    \"num_days\": {\n",
    "                        \"type\": \"integer\",\n",
    "                        \"description\": \"The number of days to forecast\",\n",
    "                    }\n",
    "                },\n",
    "                \"required\": [\"location\", \"format\", \"num_days\"]\n",
    "            },\n",
    "        }\n",
    "    },\n",
    "    {\n",
    "        \"type\": \"function\",\n",
    "        \"function\": {\n",
    "            \"name\": \"find_code_line_and_step\",\n",
    "            \"description\": \"Find code line k in a code solution and its step\",\n",
    "            \"parameters\": {\n",
    "                \"type\": \"object\",\n",
    "                \"properties\": {\n",
    "\n",
    "                    \"step\": {\n",
    "                        \"type\": \"string\",\n",
    "                        \"enum\": all_steps,\n",
    "                        \"description\": \"The step of this code line\",\n",
    "                    },\n",
    "                    \"code\": {\n",
    "                        \"type\": \"string\",\n",
    "                        # \"enum\": all_steps,\n",
    "                        \"description\": \"The code of this code line\",\n",
    "                    },\n",
    "                },\n",
    "                \"required\": [\"step\"]\n",
    "            },\n",
    "        }\n",
    "    },\n",
    "    {\n",
    "        \"type\": \"function\",\n",
    "        \"function\": {\n",
    "            \"name\": \"get_steps_in_programming_exercise\",\n",
    "            \"description\": \"Given a programming exercise, give high levels steps to solve the exercise\",\n",
    "            \"parameters\": {\n",
    "                \"type\": \"object\",\n",
    "                \"properties\": {\n",
    "                    \"step1\": {\n",
    "                        \"type\": \"string\",\n",
    "                        \"description\": \"The 1st step\",\n",
    "                    },\n",
    "                    \"step2\": {\n",
    "                        \"type\": \"string\",\n",
    "                        # \"enum\": [\"celsius\", \"fahrenheit\"],\n",
    "                        \"description\": \"The 2nd step\",\n",
    "                    },\n",
    "                    \"step3\": {\n",
    "                        \"type\": \"string\",\n",
    "                        \"description\": \"The 3rd step\",\n",
    "                    },\n",
    "                    \"step4\": {\n",
    "                        \"type\": \"string\",\n",
    "                        \"description\": \"The 4th step\",\n",
    "                    },\n",
    "                    \"step5\": {\n",
    "                        \"type\": \"string\",\n",
    "                        \"description\": \"The 5th step\",\n",
    "                    },\n",
    "                    \"step6\": {\n",
    "                        \"type\": \"string\",\n",
    "                        \"description\": \"The 6th step\",\n",
    "                    },\n",
    "                    \"step7\": {\n",
    "                        \"type\": \"string\",\n",
    "                        \"description\": \"The 7th step\",\n",
    "                    },\n",
    "                    \"step8\": {\n",
    "                        \"type\": \"string\",\n",
    "                        \"description\": \"The 8th step\",\n",
    "                    },\n",
    "                    \"step9\": {\n",
    "                        \"type\": \"string\",\n",
    "                        \"description\": \"The 9th step\",\n",
    "                    },\n",
    "                    \"step10\": {\n",
    "                        \"type\": \"string\",\n",
    "                        \"description\": \"The 10th step\",\n",
    "                    }\n",
    "                },\n",
    "                \"required\": []\n",
    "            },\n",
    "        }\n",
    "    },\n",
    "\n",
    "    {\n",
    "        \"type\": \"function\",\n",
    "        \"function\": {\n",
    "            \"name\": \"classify_code_lines\",\n",
    "            \"description\": \"Given a coding solution and a collection of steps to a programming problem, classify each code line in the solution to a step\",\n",
    "            \"parameters\": {\n",
    "                \"type\": \"object\",\n",
    "                \"properties\": {\n",
    "                    \"line0\": {\n",
    "                        \"type\": \"string\",\n",
    "                        \"enum\": all_steps,\n",
    "                        \"description\": \"description of the step of the 0st line\",\n",
    "                    },\n",
    "                    \"line1\": {\n",
    "                        \"type\": \"string\",\n",
    "                        # \"enum\": steps_dict.values(),\n",
    "                        \"enum\": all_steps,\n",
    "                        \"description\": \"description of the step of the 1st line\",\n",
    "                    },\n",
    "                    \"line2\": {\n",
    "                        \"type\": \"string\",\n",
    "                        # \"enum\": steps_dict.values(),\n",
    "                        \"enum\": all_steps,\n",
    "                        # \"enum\": [\"celsius\", \"fahrenheit\"],\n",
    "                        \"description\": \"The step of the 2nd line\",\n",
    "                    },\n",
    "                    \"line3\": {\n",
    "                        \"type\": \"string\",\n",
    "                        # \"enum\": list(steps_dict.values()),\n",
    "                        \"enum\": all_steps,\n",
    "                        \"description\": \"The step of the 3rd line\",\n",
    "                    },\n",
    "                    \"line4\": {\n",
    "                        \"type\": \"string\",\n",
    "                        \"enum\": all_steps,\n",
    "                        # \"enum\": list(steps_dict.values()),\n",
    "                        \"description\": \"The step of the 4th line\",\n",
    "                    },\n",
    "                    \"line5\": {\n",
    "                        \"type\": \"string\",\n",
    "                        # \"enum\": list(steps_dict.values()),\n",
    "                        \"enum\": all_steps,\n",
    "                        \"description\": \"The step of the 5th line\",\n",
    "                    },\n",
    "                    \"line6\": {\n",
    "                        \"type\": \"string\",\n",
    "                        # \"enum\": list(steps_dict.values()),\n",
    "                        \"enum\": all_steps,\n",
    "                        \"description\": \"The step of the 6th line\",\n",
    "                    },\n",
    "                    \"line7\": {\n",
    "                        \"type\": \"string\",\n",
    "                        # \"enum\": list(steps_dict.values()),\n",
    "                        \"enum\": all_steps,\n",
    "                        \"description\": \"The step of the 7th line\",\n",
    "                    },\n",
    "                    \"line8\": {\n",
    "                        \"type\": \"string\",\n",
    "                        # \"enum\": list(steps_dict.values()),\n",
    "                        \"enum\": all_steps,\n",
    "                        \"description\": \"The step of the 8th line\",\n",
    "                    },\n",
    "                    \"line9\": {\n",
    "                        \"type\": \"string\",\n",
    "                        # \"enum\": list(steps_dict.values()),\n",
    "                        \"enum\": all_steps,\n",
    "                        \"description\": \"The step of the 9th line\",\n",
    "                    },\n",
    "                    \"line10\": {\n",
    "                        \"type\": \"string\",\n",
    "                        \"enum\": all_steps,\n",
    "                        # \"enum\": list(steps_dict.values()),\n",
    "                        \"description\": \"The step of the 10th line\",\n",
    "                    }\n",
    "                },\n",
    "                \"required\": []\n",
    "            },\n",
    "        }\n",
    "    },\n",
    "    \n",
    "]"
   ]
  },
  {
   "cell_type": "code",
   "execution_count": 19,
   "id": "7905abe8-a907-40cc-ae5e-64a9e452c901",
   "metadata": {},
   "outputs": [
    {
     "data": {
      "text/plain": [
       "Choice(finish_reason='stop', index=0, logprobs=None, message=ChatCompletionMessage(content=None, role='assistant', function_call=None, tool_calls=[ChatCompletionMessageToolCall(id='call_fYTume3TTCLp4KEfnRP6jqR4', function=Function(arguments='{\\n  \"step1\": \"Create an empty list named \\'t\\'\",\\n  \"step2\": \"Create an empty list named \\'other\\'\",\\n  \"step3\": \"Iterate over each athlete in the \\'athletes\\' list\",\\n  \"step4\": \"Check if the athlete\\'s name contains the letter \\'t\\'\",\\n  \"step5\": \"If the athlete\\'s name contains \\'t\\', append the name to the \\'t\\' list\",\\n  \"step6\": \"If the athlete\\'s name does not contain \\'t\\', append the name to the \\'other\\' list\",\\n  \"step7\": \"Repeat steps 4 to 6 for all athletes in the \\'athletes\\' list\",\\n  \"step8\": \"Return the \\'t\\' and \\'other\\' lists\"\\n}', name='get_steps_in_programming_exercise'), type='function')]))"
      ]
     },
     "execution_count": 19,
     "metadata": {},
     "output_type": "execute_result"
    }
   ],
   "source": [
    "# segment a code solution into steps\n",
    "messages = []\n",
    "messages.append({\"role\": \"system\", \"content\": \"Don't make assumptions about what values to plug into functions. Ask for clarification if a user request is ambiguous.\"})\n",
    "messages.append({\"role\": \"user\", \"content\": \"This is a programming exercise. I will provide the description in next message.\"})\n",
    "messages.append({\"role\": \"user\", \"content\": ''' `athletes` is a nested list of strings. Create a list, ``t``, that saves only the athlete's name if it contains the letter \"t\". If it does not contain the letter \"t\", save the athlete name into list ``other``.'''})\n",
    "messages.append({\"role\": \"user\", \"content\": \"What are the high level steps to solve the problem?\"})\n",
    "\n",
    "chat_response = chat_completion_request(\n",
    "    messages, tools=tools, tool_choice={\"type\": \"function\", \"function\": {\"name\": \"get_steps_in_programming_exercise\"}}\n",
    ")\n",
    "chat_response.choices[0]\n"
   ]
  },
  {
   "cell_type": "code",
   "execution_count": null,
   "id": "8775c3b2-c481-4650-a135-1dccf8e751ee",
   "metadata": {},
   "outputs": [],
   "source": [
    "[  \"step1\": \"Create an empty list called 't'\", \"step2\": \"Create an empty list called 'other'\",\"step3\": \"Iterate over each sublist in 'athletes'\",\"step4\": \"Iterate over each athlete in the current sublist\",  \"step5\": \"Check if the athlete's name contains the letter 't'\",\"step6\": \"If the athlete's name contains 't', append it to 't' list\",  \"step7\": \"If the athlete's name does not contain 't', append it to 'other' list\"]"
   ]
  },
  {
   "cell_type": "code",
   "execution_count": 20,
   "id": "666fabea-3af9-432d-a4ba-98e5e6fad729",
   "metadata": {},
   "outputs": [
    {
     "name": "stdout",
     "output_type": "stream",
     "text": [
      "{\n",
      "  \"step1\": \"Create an empty list named 't'\",\n",
      "  \"step2\": \"Create an empty list named 'other'\",\n",
      "  \"step3\": \"Iterate over each athlete in the 'athletes' list\",\n",
      "  \"step4\": \"Check if the athlete's name contains the letter 't'\",\n",
      "  \"step5\": \"If the athlete's name contains 't', append the name to the 't' list\",\n",
      "  \"step6\": \"If the athlete's name does not contain 't', append the name to the 'other' list\",\n",
      "  \"step7\": \"Repeat steps 4 to 6 for all athletes in the 'athletes' list\",\n",
      "  \"step8\": \"Return the 't' and 'other' lists\"\n",
      "}\n"
     ]
    }
   ],
   "source": [
    "print(chat_response.choices[0].message.tool_calls[0].function.arguments)"
   ]
  },
  {
   "cell_type": "code",
   "execution_count": 21,
   "id": "3ace13dc-345f-415e-9eb5-ba13b843a227",
   "metadata": {},
   "outputs": [],
   "source": [
    "steps = chat_response.choices[0].message.tool_calls[0].function.arguments"
   ]
  },
  {
   "cell_type": "code",
   "execution_count": 22,
   "id": "732e0efa-5162-4940-aef3-58876c092486",
   "metadata": {},
   "outputs": [
    {
     "data": {
      "text/plain": [
       "'{\\n  \"step1\": \"Create an empty list named \\'t\\'\",\\n  \"step2\": \"Create an empty list named \\'other\\'\",\\n  \"step3\": \"Iterate over each athlete in the \\'athletes\\' list\",\\n  \"step4\": \"Check if the athlete\\'s name contains the letter \\'t\\'\",\\n  \"step5\": \"If the athlete\\'s name contains \\'t\\', append the name to the \\'t\\' list\",\\n  \"step6\": \"If the athlete\\'s name does not contain \\'t\\', append the name to the \\'other\\' list\",\\n  \"step7\": \"Repeat steps 4 to 6 for all athletes in the \\'athletes\\' list\",\\n  \"step8\": \"Return the \\'t\\' and \\'other\\' lists\"\\n}'"
      ]
     },
     "execution_count": 22,
     "metadata": {},
     "output_type": "execute_result"
    }
   ],
   "source": [
    "steps"
   ]
  },
  {
   "cell_type": "code",
   "execution_count": 45,
   "id": "3d847367-1f62-4560-b793-4d56393279b6",
   "metadata": {},
   "outputs": [],
   "source": [
    "def classify_line(k, code):\n",
    "    messages = []\n",
    "    messages.append({\"role\": \"system\", \"content\": \"Don't make assumptions about what values to plug into functions. Ask for clarification if a user request is ambiguous.\"})\n",
    "    messages.append({\"role\": \"user\", \"content\": \"This is a programming exercise. I will provide the description in next message.\"})\n",
    "    messages.append({\"role\": \"user\", \"content\": ''' `athletes` is a nested list of strings. Create a list, ``t``, that saves only the athlete's name if it contains the letter \"t\". If it does not contain the letter \"t\", save the athlete name into list ``other``.'''})\n",
    "    messages.append({\"role\": \"user\", \"content\": \"To solve the problem, there are several steps it takes: {}. \".format(steps)})\n",
    "    \n",
    "    # code = random.choice(sampled_code_list)\n",
    "    # code = '\\n'.join([l for l in code.split('\\n') if l.strip()])\n",
    "    \n",
    "    messages.append({\"role\": \"user\", \"content\": \"For the following code solution, code line {} is `{}`. Which step it is? \".format(k, code.split('\\n')[k-1])})\n",
    "    \n",
    "    \n",
    "    messages.append({\"role\": \"user\", \"content\": code})\n",
    "    \n",
    "    chat_response = chat_completion_request(\n",
    "        messages, tools=tools, tool_choice={\"type\": \"function\", \"function\": {\"name\": \"find_code_line_and_step\"}}\n",
    "        # messages, tools=tools, tool_choice=\"none\"\n",
    "    )\n",
    "    # print(chat_response.choices[0].message.tool_calls[0].function.arguments)\n",
    "    return json.loads(chat_response.choices[0].message.tool_calls[0].function.arguments)"
   ]
  },
  {
   "cell_type": "code",
   "execution_count": 44,
   "id": "50e122f7-e41c-454c-929d-c2d15b4c6867",
   "metadata": {},
   "outputs": [
    {
     "data": {
      "text/plain": [
       "\"\\nathletes = [['Phelps', 'Lochte', 'Schooling', 'Ledecky', 'Franklin'], ['Felix', 'Bolt', 'Gardner', 'Eaton'], ['Biles', 'Douglas', 'Hamm', 'Raisman', 'Mikulak', 'Dalton']]\\n\\nt = []\\nother = []\\n\\nfor lst in athletes:\\n    for name in lst:\\n        if 't' in name:\\n            t.append(name)\\n        else:\\n            other.append(name)\\n\\n\""
      ]
     },
     "execution_count": 44,
     "metadata": {},
     "output_type": "execute_result"
    }
   ],
   "source": [
    "code"
   ]
  },
  {
   "cell_type": "code",
   "execution_count": 43,
   "id": "bb5d1ca9-85f9-4f73-831c-0ce64ccae63d",
   "metadata": {
    "scrolled": true
   },
   "outputs": [
    {
     "name": "stdout",
     "output_type": "stream",
     "text": [
      "{\n",
      "  \"step\": \"Create an empty list named 't'\",\n",
      "  \"code\": \"t = []\"\n",
      "}\n",
      "{\n",
      "  \"step\": \"Create an empty list named 't'\",\n",
      "  \"code\": \"t = []\"\n",
      "}\n",
      "{\n",
      "  \"step\": \"Iterate over each athlete in the 'athletes' list\",\n",
      "  \"code\": \"for lst in athletes:\"\n",
      "}\n",
      "{\n",
      "  \"step\": \"Create an empty list named 't'\",\n",
      "  \"code\": \"t = []\"\n",
      "}\n",
      "{\n",
      "  \"step\": \"Create an empty list named 'other'\",\n",
      "  \"code\": \"other = []\"\n",
      "}\n",
      "{\n",
      "  \"step\": \"If the athlete's name does not contain 't', append the name to the 'other' list\",\n",
      "  \"code\": \"other.append(name)\"\n",
      "}\n",
      "{\n",
      "  \"step\": \"Iterate over each athlete in the 'athletes' list\",\n",
      "  \"code\": \"for lst in athletes:\"\n",
      "}\n",
      "{\n",
      "  \"step\": \"Iterate over each athlete in the 'athletes' list\",\n",
      "  \"code\": \"    for name in lst:\"\n",
      "}\n",
      "{\n",
      "  \"step\": \"Check if the athlete's name contains the letter 't'\",\n",
      "  \"code\": \"        if 't' in name:\"\n",
      "}\n",
      "{\n",
      "  \"step\": \"If the athlete's name contains 't', append the name to the 't' list\",\n",
      "  \"code\": \"            t.append(name)\"\n",
      "}\n",
      "{\n",
      "  \"step\": \"\",\n",
      "  \"code\": \"        else:\"\n",
      "}\n",
      "{\n",
      "  \"step\": \"If the athlete's name does not contain 't', append the name to the 'other' list\",\n",
      "  \"code\": \"            other.append(name)\"\n",
      "}\n",
      "{\n",
      "  \"step\": \"Repeat steps 4 to 6 for all athletes in the 'athletes' list\",\n",
      "  \"code\": \"for lst in athletes:\"\n",
      "}\n",
      "{\n",
      "  \"step\": \"Check if the athlete's name contains the letter 't'\",\n",
      "  \"code\": \"if 't' in name:\"\n",
      "}\n"
     ]
    }
   ],
   "source": [
    "code = sampled_code_list[56]\n",
    "lines = code.split('\\n')\n",
    "code_steps = []\n",
    "for i, l in enumerate(lines):\n",
    "    # print(classify_line(i+1, code))\n",
    "    code_steps.append(classify_line(i+1, code))"
   ]
  },
  {
   "cell_type": "code",
   "execution_count": 32,
   "id": "5458c932-8e5c-4c2f-8e58-cd9f43028cbe",
   "metadata": {},
   "outputs": [],
   "source": [
    "code = random.choice(sampled_code_list)\n",
    "code = '\\n'.join([l for l in code.split('\\n') if l.strip()])"
   ]
  },
  {
   "cell_type": "code",
   "execution_count": 37,
   "id": "c05dd13b-d9c9-48bd-970a-18ecca32f788",
   "metadata": {},
   "outputs": [],
   "source": [
    "def get_results(code):\n",
    "    lines = code.split('\\n')\n",
    "    code_steps = []\n",
    "    for i, l in enumerate(lines):\n",
    "        # print(classify_line(i+1, code))\n",
    "        code_steps.append(classify_line(i+1, code))\n",
    "        # print('-'*20)\n",
    "    # print(code_steps)\n",
    "    return code_steps"
   ]
  },
  {
   "cell_type": "code",
   "execution_count": 38,
   "id": "ac9156f0-8cee-4fb1-ab72-d190c3dd8bc1",
   "metadata": {},
   "outputs": [],
   "source": [
    "from tqdm import tqdm"
   ]
  },
  {
   "cell_type": "code",
   "execution_count": 39,
   "id": "e076bfd3-9f70-4ad6-b6e5-78d7895f80e5",
   "metadata": {},
   "outputs": [
    {
     "name": "stderr",
     "output_type": "stream",
     "text": [
      "100%|██████████████████████████████████| 100/100 [00:00<00:00, 104700.55it/s]\n"
     ]
    }
   ],
   "source": [
    "for code in tqdm(sampled_code_list):\n",
    "    t = 1"
   ]
  },
  {
   "cell_type": "code",
   "execution_count": 46,
   "id": "c57227ae-84c8-463a-b566-45cc214142dd",
   "metadata": {},
   "outputs": [
    {
     "name": "stderr",
     "output_type": "stream",
     "text": [
      "100%|████████████████████████████████████████| 44/44 [11:12<00:00, 15.29s/it]\n"
     ]
    }
   ],
   "source": [
    "# all_results = []\n",
    "for code in tqdm(sampled_code_list[56:]):\n",
    "    all_results.append(get_results(code))    "
   ]
  },
  {
   "cell_type": "code",
   "execution_count": 47,
   "id": "41e26480-7444-4bc7-82f9-e8454ef3181b",
   "metadata": {},
   "outputs": [
    {
     "data": {
      "text/plain": [
       "100"
      ]
     },
     "execution_count": 47,
     "metadata": {},
     "output_type": "execute_result"
    }
   ],
   "source": [
    "len(all_results)"
   ]
  },
  {
   "cell_type": "code",
   "execution_count": 48,
   "id": "0ba2738a-6be4-4e92-8c0d-5e45bca23afe",
   "metadata": {},
   "outputs": [
    {
     "name": "stdout",
     "output_type": "stream",
     "text": [
      "/Users/gezhang/Research/src/Map-Pro/notebooks\n"
     ]
    }
   ],
   "source": [
    "!pwd"
   ]
  },
  {
   "cell_type": "code",
   "execution_count": 49,
   "id": "74f7c612-bb0c-433c-a322-e221869d2b6f",
   "metadata": {},
   "outputs": [],
   "source": [
    "with open('../data/steps.json', 'w') as fout:\n",
    "    json.dump(all_results, fout)"
   ]
  },
  {
   "cell_type": "code",
   "execution_count": 28,
   "id": "95357097-5d80-43d0-971e-3705b58ee5de",
   "metadata": {},
   "outputs": [],
   "source": [
    "results = chat_response.choices[0].message.tool_calls[0].function.arguments"
   ]
  },
  {
   "cell_type": "code",
   "execution_count": 266,
   "id": "dba18f55-689e-4166-9d8a-885f0caadfa1",
   "metadata": {},
   "outputs": [],
   "source": [
    "results = chat_response.choices[0].message.content"
   ]
  },
  {
   "cell_type": "code",
   "execution_count": 29,
   "id": "b8ee9783-ec95-41c7-bffb-20e1ea06e442",
   "metadata": {},
   "outputs": [],
   "source": [
    "results = json.loads(results)"
   ]
  },
  {
   "cell_type": "code",
   "execution_count": 30,
   "id": "68f8974b-0c54-4bfb-b976-56159fce4075",
   "metadata": {},
   "outputs": [
    {
     "name": "stdout",
     "output_type": "stream",
     "text": [
      "{'step': \"Iterate over each athlete in the 'athletes' list\", 'code': 'for athlete in athletes:'}\n"
     ]
    }
   ],
   "source": [
    "print(results)"
   ]
  },
  {
   "cell_type": "code",
   "execution_count": 31,
   "id": "042dce3d-45a3-4d89-b04f-9a6c831dbffc",
   "metadata": {},
   "outputs": [
    {
     "name": "stdout",
     "output_type": "stream",
     "text": [
      "t=[]\n",
      "other=[]\n",
      "athletes = [['Phelps', 'Lochte', 'Schooling', 'Ledecky', 'Franklin'], ['Felix', 'Bolt', 'Gardner', 'Eaton'], ['Biles', 'Douglas', 'Hamm', 'Raisman', 'Mikulak', 'Dalton']]\n",
      "for athlete in athletes:\n",
      "    for name in athlete:\n",
      "        if 't' in name:\n",
      "            t.append(name)\n",
      "        else:\n",
      "            other.append(name)\n"
     ]
    }
   ],
   "source": [
    "print(code)"
   ]
  },
  {
   "cell_type": "code",
   "execution_count": 244,
   "id": "bcd05646-2e62-48bc-b622-5e98af3b13c6",
   "metadata": {},
   "outputs": [
    {
     "name": "stdout",
     "output_type": "stream",
     "text": [
      "I apologize for the confusion. It seems there was a mistake in my response. You mentioned that there are 7 code lines, but I provided 9 options for each line. Please disregard the extra options and focus on the 7 code lines you mentioned. Thank you for bringing this to my attention, and I apologize for any inconvenience caused.\n"
     ]
    }
   ],
   "source": [
    "messages = []\n",
    "messages.append({\"role\": \"user\", \"content\": \"you said there is 7 code lines but gave 9. Why\"})\n",
    "chat_response = chat_completion_request(\n",
    "    messages, tools=tools, tool_choice=\"none\"\n",
    ")\n",
    "print(chat_response.choices[0].message.content)"
   ]
  },
  {
   "cell_type": "code",
   "execution_count": 23,
   "id": "518982ff-8479-424b-b2b7-4d4e6d640c2e",
   "metadata": {},
   "outputs": [],
   "source": [
    "steps_dict = json.loads(steps)"
   ]
  },
  {
   "cell_type": "code",
   "execution_count": 24,
   "id": "92c021e6-40db-402d-bc57-1dbb79ac1cfa",
   "metadata": {},
   "outputs": [
    {
     "data": {
      "text/plain": [
       "dict_values([\"Create an empty list named 't'\", \"Create an empty list named 'other'\", \"Iterate over each athlete in the 'athletes' list\", \"Check if the athlete's name contains the letter 't'\", \"If the athlete's name contains 't', append the name to the 't' list\", \"If the athlete's name does not contain 't', append the name to the 'other' list\", \"Repeat steps 4 to 6 for all athletes in the 'athletes' list\", \"Return the 't' and 'other' lists\"])"
      ]
     },
     "execution_count": 24,
     "metadata": {},
     "output_type": "execute_result"
    }
   ],
   "source": [
    "steps_dict.values()"
   ]
  },
  {
   "cell_type": "code",
   "execution_count": 25,
   "id": "39b27abc-8e0f-4236-b9ec-4d2784f60820",
   "metadata": {},
   "outputs": [],
   "source": [
    "all_steps = list(steps_dict.values())"
   ]
  },
  {
   "cell_type": "code",
   "execution_count": 201,
   "id": "2ffbb4e8-dc11-4e3d-a4eb-53adc55900f0",
   "metadata": {},
   "outputs": [],
   "source": [
    "all_steps = [\"Create an empty list called 't'\", \"Create an empty list called 'other'\", \"Iterate over each sublist in 'athletes'\", 'Iterate over each athlete in the current sublist', \"Check if the athlete's name contains the letter 't'\", \"If the athlete's name contains 't', append it to 't' list\", \"If the athlete's name does not contain 't', append it to 'other' list\"]"
   ]
  },
  {
   "cell_type": "code",
   "execution_count": 184,
   "id": "38374ee4-13a6-4c8e-91f9-34dbeed92783",
   "metadata": {},
   "outputs": [
    {
     "ename": "KeyError",
     "evalue": "\"Create an empty list called 't'\"",
     "output_type": "error",
     "traceback": [
      "\u001b[0;31m---------------------------------------------------------------------------\u001b[0m",
      "\u001b[0;31mKeyError\u001b[0m                                  Traceback (most recent call last)",
      "Cell \u001b[0;32mIn[184], line 4\u001b[0m\n\u001b[1;32m      1\u001b[0m lines \u001b[38;5;241m=\u001b[39m code\u001b[38;5;241m.\u001b[39msplit(\u001b[38;5;124m'\u001b[39m\u001b[38;5;130;01m\\n\u001b[39;00m\u001b[38;5;124m'\u001b[39m)\n\u001b[1;32m      2\u001b[0m \u001b[38;5;28;01mfor\u001b[39;00m i, line \u001b[38;5;129;01min\u001b[39;00m \u001b[38;5;28menumerate\u001b[39m(lines):\n\u001b[1;32m      3\u001b[0m     \u001b[38;5;66;03m# print(results[\"line{}\".format(i+1)])\u001b[39;00m\n\u001b[0;32m----> 4\u001b[0m     \u001b[38;5;28mprint\u001b[39m(\u001b[43msteps_dict\u001b[49m\u001b[43m[\u001b[49m\u001b[43mresults\u001b[49m\u001b[43m[\u001b[49m\u001b[38;5;124;43m\"\u001b[39;49m\u001b[38;5;124;43mline\u001b[39;49m\u001b[38;5;132;43;01m{}\u001b[39;49;00m\u001b[38;5;124;43m\"\u001b[39;49m\u001b[38;5;241;43m.\u001b[39;49m\u001b[43mformat\u001b[49m\u001b[43m(\u001b[49m\u001b[43mi\u001b[49m\u001b[38;5;241;43m+\u001b[39;49m\u001b[38;5;241;43m1\u001b[39;49m\u001b[43m)\u001b[49m\u001b[43m]\u001b[49m\u001b[43m]\u001b[49m)\n\u001b[1;32m      5\u001b[0m     \u001b[38;5;28mprint\u001b[39m(line)\n\u001b[1;32m      6\u001b[0m     \u001b[38;5;28mprint\u001b[39m(\u001b[38;5;124m'\u001b[39m\u001b[38;5;124m-\u001b[39m\u001b[38;5;124m'\u001b[39m\u001b[38;5;241m*\u001b[39m\u001b[38;5;241m20\u001b[39m)\n",
      "\u001b[0;31mKeyError\u001b[0m: \"Create an empty list called 't'\""
     ]
    }
   ],
   "source": [
    "lines = code.split('\\n')\n",
    "for i, line in enumerate(lines):\n",
    "    # print(results[\"line{}\".format(i+1)])\n",
    "    print(steps_dict[results[\"line{}\".format(i+1)]])\n",
    "    print(line)\n",
    "    print('-'*20)"
   ]
  },
  {
   "cell_type": "code",
   "execution_count": 125,
   "id": "6a62ea43-0814-467c-bc65-b60d46a91379",
   "metadata": {},
   "outputs": [
    {
     "data": {
      "text/plain": [
       "{'line1': 'step1',\n",
       " 'line2': 'step2',\n",
       " 'line3': 'step3',\n",
       " 'line4': 'step4',\n",
       " 'line5': 'step5',\n",
       " 'line6': 'step6',\n",
       " 'line7': 'step7'}"
      ]
     },
     "execution_count": 125,
     "metadata": {},
     "output_type": "execute_result"
    }
   ],
   "source": [
    "results"
   ]
  },
  {
   "cell_type": "code",
   "execution_count": 127,
   "id": "bd59a06e-f233-4c5d-864a-dab0ab59f6bf",
   "metadata": {},
   "outputs": [
    {
     "name": "stdout",
     "output_type": "stream",
     "text": [
      "athletes = [['Phelps', 'Lochte', 'Schooling', 'Ledecky', 'Franklin'], ['Felix', 'Bolt', 'Gardner', 'Eaton'], ['Biles', 'Douglas', 'Hamm', 'Raisman', 'Mikulak', 'Dalton']]\n",
      "t = []\n",
      "other = []\n",
      "for athlete_l in athletes:\n",
      "    for athlete_name in athlete_l:\n",
      "        if 't' in athlete_name:\n",
      "            t.append(athlete_name)\n",
      "        else:\n",
      "            other.append(athlete_name)\n"
     ]
    }
   ],
   "source": [
    "print(code)"
   ]
  },
  {
   "cell_type": "code",
   "execution_count": 106,
   "id": "c1c1ab0f-6982-47ac-9aeb-0a18b3b3c4a6",
   "metadata": {},
   "outputs": [
    {
     "name": "stdout",
     "output_type": "stream",
     "text": [
      "{\n",
      "  \"line1\": \"step1\",\n",
      "  \"line2\": \"step2\",\n",
      "  \"line3\": \"step3\",\n",
      "  \"line4\": \"step3\",\n",
      "  \"line5\": \"step5\",\n",
      "  \"line6\": \"step6\",\n",
      "  \"line7\": \"step7\",\n",
      "  \"line8\": \"step6\",\n",
      "  \"line9\": \"step7\",\n",
      "  \"line10\": \"step9\"\n",
      "}\n"
     ]
    }
   ],
   "source": [
    "print(chat_response.choices[0].message.tool_calls[0].function.arguments)"
   ]
  },
  {
   "cell_type": "code",
   "execution_count": null,
   "id": "c6a8f36e-e109-401a-935a-05d1485263a5",
   "metadata": {},
   "outputs": [],
   "source": []
  }
 ],
 "metadata": {
  "kernelspec": {
   "display_name": "Python 3 (ipykernel)",
   "language": "python",
   "name": "python3"
  },
  "language_info": {
   "codemirror_mode": {
    "name": "ipython",
    "version": 3
   },
   "file_extension": ".py",
   "mimetype": "text/x-python",
   "name": "python",
   "nbconvert_exporter": "python",
   "pygments_lexer": "ipython3",
   "version": "3.10.7"
  }
 },
 "nbformat": 4,
 "nbformat_minor": 5
}
